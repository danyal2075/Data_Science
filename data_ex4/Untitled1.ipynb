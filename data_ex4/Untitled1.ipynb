{
 "cells": [
  {
   "cell_type": "code",
   "execution_count": 54,
   "id": "450b87fc",
   "metadata": {},
   "outputs": [],
   "source": [
    "import numpy as np\n",
    "import matplotlib.pyplot as plt\n",
    "import pandas as pd"
   ]
  },
  {
   "cell_type": "code",
   "execution_count": 55,
   "id": "053f6c8a",
   "metadata": {},
   "outputs": [
    {
     "data": {
      "text/html": [
       "<div>\n",
       "<style scoped>\n",
       "    .dataframe tbody tr th:only-of-type {\n",
       "        vertical-align: middle;\n",
       "    }\n",
       "\n",
       "    .dataframe tbody tr th {\n",
       "        vertical-align: top;\n",
       "    }\n",
       "\n",
       "    .dataframe thead th {\n",
       "        text-align: right;\n",
       "    }\n",
       "</style>\n",
       "<table border=\"1\" class=\"dataframe\">\n",
       "  <thead>\n",
       "    <tr style=\"text-align: right;\">\n",
       "      <th></th>\n",
       "      <th>Unnamed: 0</th>\n",
       "      <th>gender</th>\n",
       "      <th>date</th>\n",
       "      <th>hitCreationDate</th>\n",
       "      <th>householdIncome</th>\n",
       "      <th>householdSize</th>\n",
       "      <th>locationCity</th>\n",
       "      <th>locationCountry</th>\n",
       "      <th>locationRegion</th>\n",
       "      <th>maritalStatus</th>\n",
       "      <th>postToCompletionSecs</th>\n",
       "      <th>workerId</th>\n",
       "      <th>yearOfBirth</th>\n",
       "    </tr>\n",
       "  </thead>\n",
       "  <tbody>\n",
       "    <tr>\n",
       "      <th>0</th>\n",
       "      <td>1</td>\n",
       "      <td>male</td>\n",
       "      <td>2020-10-31 09:20:06.303</td>\n",
       "      <td>2020-10-31 09:18:00.000</td>\n",
       "      <td>$75,000-$99,999</td>\n",
       "      <td>5+</td>\n",
       "      <td>nagercoil</td>\n",
       "      <td>IN</td>\n",
       "      <td>tn</td>\n",
       "      <td>single</td>\n",
       "      <td>126.0</td>\n",
       "      <td>a8dc59ede670806d50921448f353daf8</td>\n",
       "      <td>1996</td>\n",
       "    </tr>\n",
       "    <tr>\n",
       "      <th>1</th>\n",
       "      <td>2</td>\n",
       "      <td>female</td>\n",
       "      <td>2020-10-31 09:05:52.654</td>\n",
       "      <td>2020-10-31 09:03:01.000</td>\n",
       "      <td>$25,000-$39,999</td>\n",
       "      <td>2</td>\n",
       "      <td>st. louis</td>\n",
       "      <td>US</td>\n",
       "      <td>mo</td>\n",
       "      <td>cohabitating</td>\n",
       "      <td>171.0</td>\n",
       "      <td>7073f0b49d9081064fbbd4921a54df0b</td>\n",
       "      <td>1972</td>\n",
       "    </tr>\n",
       "    <tr>\n",
       "      <th>2</th>\n",
       "      <td>3</td>\n",
       "      <td>female</td>\n",
       "      <td>2020-10-31 08:59:14.727</td>\n",
       "      <td>2020-10-31 07:48:00.000</td>\n",
       "      <td>Less than $10,000</td>\n",
       "      <td>1</td>\n",
       "      <td>porto alegre</td>\n",
       "      <td>BR</td>\n",
       "      <td>rs</td>\n",
       "      <td>single</td>\n",
       "      <td>4274.0</td>\n",
       "      <td>0ac1d80c558377ee41e854290e87b10e</td>\n",
       "      <td>1999</td>\n",
       "    </tr>\n",
       "    <tr>\n",
       "      <th>3</th>\n",
       "      <td>4</td>\n",
       "      <td>female</td>\n",
       "      <td>2020-10-31 08:55:05.752</td>\n",
       "      <td>2020-10-31 08:48:01.000</td>\n",
       "      <td>$40,000-$59,999</td>\n",
       "      <td>3</td>\n",
       "      <td>chennai</td>\n",
       "      <td>IN</td>\n",
       "      <td>tn</td>\n",
       "      <td>single</td>\n",
       "      <td>424.0</td>\n",
       "      <td>8f8ac6136e51afe4cf0c28fc70268e57</td>\n",
       "      <td>1995</td>\n",
       "    </tr>\n",
       "    <tr>\n",
       "      <th>4</th>\n",
       "      <td>5</td>\n",
       "      <td>female</td>\n",
       "      <td>2020-10-31 08:38:41.705</td>\n",
       "      <td>2020-10-31 08:33:07.000</td>\n",
       "      <td>$75,000-$99,999</td>\n",
       "      <td>4</td>\n",
       "      <td>pueblo</td>\n",
       "      <td>US</td>\n",
       "      <td>co</td>\n",
       "      <td>married</td>\n",
       "      <td>334.0</td>\n",
       "      <td>a1d3418861d39b491ff8defb76b416ed</td>\n",
       "      <td>1982</td>\n",
       "    </tr>\n",
       "    <tr>\n",
       "      <th>...</th>\n",
       "      <td>...</td>\n",
       "      <td>...</td>\n",
       "      <td>...</td>\n",
       "      <td>...</td>\n",
       "      <td>...</td>\n",
       "      <td>...</td>\n",
       "      <td>...</td>\n",
       "      <td>...</td>\n",
       "      <td>...</td>\n",
       "      <td>...</td>\n",
       "      <td>...</td>\n",
       "      <td>...</td>\n",
       "      <td>...</td>\n",
       "    </tr>\n",
       "    <tr>\n",
       "      <th>9996</th>\n",
       "      <td>9997</td>\n",
       "      <td>female</td>\n",
       "      <td>2020-07-15 15:14:57.467</td>\n",
       "      <td>2020-07-15 14:33:01.000</td>\n",
       "      <td>$40,000-$59,999</td>\n",
       "      <td>1</td>\n",
       "      <td>new york</td>\n",
       "      <td>US</td>\n",
       "      <td>ny</td>\n",
       "      <td>married</td>\n",
       "      <td>2516.0</td>\n",
       "      <td>6f9bb5b7f81f1f8528b270d51e91e831</td>\n",
       "      <td>1989</td>\n",
       "    </tr>\n",
       "    <tr>\n",
       "      <th>9997</th>\n",
       "      <td>9998</td>\n",
       "      <td>male</td>\n",
       "      <td>2020-07-15 14:48:41.767</td>\n",
       "      <td>2020-07-15 14:48:01.000</td>\n",
       "      <td>$60,000-$74,999</td>\n",
       "      <td>3</td>\n",
       "      <td>rockledge</td>\n",
       "      <td>US</td>\n",
       "      <td>fl</td>\n",
       "      <td>married</td>\n",
       "      <td>40.0</td>\n",
       "      <td>729d1624c23440a33073407584b8968b</td>\n",
       "      <td>1987</td>\n",
       "    </tr>\n",
       "    <tr>\n",
       "      <th>9998</th>\n",
       "      <td>9999</td>\n",
       "      <td>male</td>\n",
       "      <td>2020-07-15 14:36:01.568</td>\n",
       "      <td>2020-07-15 14:18:01.000</td>\n",
       "      <td>$75,000-$99,999</td>\n",
       "      <td>3</td>\n",
       "      <td>paducah</td>\n",
       "      <td>US</td>\n",
       "      <td>ky</td>\n",
       "      <td>married</td>\n",
       "      <td>1080.0</td>\n",
       "      <td>c217db22cda08d35cf4a43ce974ca453</td>\n",
       "      <td>1980</td>\n",
       "    </tr>\n",
       "    <tr>\n",
       "      <th>9999</th>\n",
       "      <td>10000</td>\n",
       "      <td>male</td>\n",
       "      <td>2020-07-15 14:04:54.297</td>\n",
       "      <td>2020-07-15 14:03:02.000</td>\n",
       "      <td>$25,000-$39,999</td>\n",
       "      <td>4</td>\n",
       "      <td>None</td>\n",
       "      <td>ZZ</td>\n",
       "      <td>None</td>\n",
       "      <td>married</td>\n",
       "      <td>112.0</td>\n",
       "      <td>e3a1674cc0acfc89a5586132bfa0494a</td>\n",
       "      <td>1977</td>\n",
       "    </tr>\n",
       "    <tr>\n",
       "      <th>10000</th>\n",
       "      <td>10001</td>\n",
       "      <td>male</td>\n",
       "      <td>2020-07-15 13:50:49.486</td>\n",
       "      <td>2020-07-15 13:48:00.000</td>\n",
       "      <td>$25,000-$39,999</td>\n",
       "      <td>3</td>\n",
       "      <td>mount vernon</td>\n",
       "      <td>US</td>\n",
       "      <td>il</td>\n",
       "      <td>married</td>\n",
       "      <td>169.0</td>\n",
       "      <td>964bacc27669fa8c4f592d667f14264c</td>\n",
       "      <td>1981</td>\n",
       "    </tr>\n",
       "  </tbody>\n",
       "</table>\n",
       "<p>10001 rows × 13 columns</p>\n",
       "</div>"
      ],
      "text/plain": [
       "       Unnamed: 0  gender                     date          hitCreationDate  \\\n",
       "0               1    male  2020-10-31 09:20:06.303  2020-10-31 09:18:00.000   \n",
       "1               2  female  2020-10-31 09:05:52.654  2020-10-31 09:03:01.000   \n",
       "2               3  female  2020-10-31 08:59:14.727  2020-10-31 07:48:00.000   \n",
       "3               4  female  2020-10-31 08:55:05.752  2020-10-31 08:48:01.000   \n",
       "4               5  female  2020-10-31 08:38:41.705  2020-10-31 08:33:07.000   \n",
       "...           ...     ...                      ...                      ...   \n",
       "9996         9997  female  2020-07-15 15:14:57.467  2020-07-15 14:33:01.000   \n",
       "9997         9998    male  2020-07-15 14:48:41.767  2020-07-15 14:48:01.000   \n",
       "9998         9999    male  2020-07-15 14:36:01.568  2020-07-15 14:18:01.000   \n",
       "9999        10000    male  2020-07-15 14:04:54.297  2020-07-15 14:03:02.000   \n",
       "10000       10001    male  2020-07-15 13:50:49.486  2020-07-15 13:48:00.000   \n",
       "\n",
       "         householdIncome householdSize  locationCity locationCountry  \\\n",
       "0        $75,000-$99,999            5+     nagercoil              IN   \n",
       "1        $25,000-$39,999             2     st. louis              US   \n",
       "2      Less than $10,000             1  porto alegre              BR   \n",
       "3        $40,000-$59,999             3       chennai              IN   \n",
       "4        $75,000-$99,999             4        pueblo              US   \n",
       "...                  ...           ...           ...             ...   \n",
       "9996     $40,000-$59,999             1      new york              US   \n",
       "9997     $60,000-$74,999             3     rockledge              US   \n",
       "9998     $75,000-$99,999             3       paducah              US   \n",
       "9999     $25,000-$39,999             4          None              ZZ   \n",
       "10000    $25,000-$39,999             3  mount vernon              US   \n",
       "\n",
       "      locationRegion maritalStatus  postToCompletionSecs  \\\n",
       "0                 tn        single                 126.0   \n",
       "1                 mo  cohabitating                 171.0   \n",
       "2                 rs        single                4274.0   \n",
       "3                 tn        single                 424.0   \n",
       "4                 co       married                 334.0   \n",
       "...              ...           ...                   ...   \n",
       "9996              ny       married                2516.0   \n",
       "9997              fl       married                  40.0   \n",
       "9998              ky       married                1080.0   \n",
       "9999            None       married                 112.0   \n",
       "10000             il       married                 169.0   \n",
       "\n",
       "                               workerId  yearOfBirth  \n",
       "0      a8dc59ede670806d50921448f353daf8         1996  \n",
       "1      7073f0b49d9081064fbbd4921a54df0b         1972  \n",
       "2      0ac1d80c558377ee41e854290e87b10e         1999  \n",
       "3      8f8ac6136e51afe4cf0c28fc70268e57         1995  \n",
       "4      a1d3418861d39b491ff8defb76b416ed         1982  \n",
       "...                                 ...          ...  \n",
       "9996   6f9bb5b7f81f1f8528b270d51e91e831         1989  \n",
       "9997   729d1624c23440a33073407584b8968b         1987  \n",
       "9998   c217db22cda08d35cf4a43ce974ca453         1980  \n",
       "9999   e3a1674cc0acfc89a5586132bfa0494a         1977  \n",
       "10000  964bacc27669fa8c4f592d667f14264c         1981  \n",
       "\n",
       "[10001 rows x 13 columns]"
      ]
     },
     "execution_count": 55,
     "metadata": {},
     "output_type": "execute_result"
    }
   ],
   "source": [
    "# data = pd.read_csv(\"\"):\n",
    "data = pd.read_csv('./mturk_tracker_data_2020.csv', sep=';')\n",
    "data"
   ]
  },
  {
   "cell_type": "code",
   "execution_count": 56,
   "id": "145ba684",
   "metadata": {},
   "outputs": [
    {
     "data": {
      "text/plain": [
       "Index(['Unnamed: 0', 'gender', 'date', 'hitCreationDate', 'householdIncome',\n",
       "       'householdSize', 'locationCity', 'locationCountry', 'locationRegion',\n",
       "       'maritalStatus', 'postToCompletionSecs', 'workerId', 'yearOfBirth'],\n",
       "      dtype='object')"
      ]
     },
     "execution_count": 56,
     "metadata": {},
     "output_type": "execute_result"
    }
   ],
   "source": [
    "data.columns"
   ]
  },
  {
   "cell_type": "code",
   "execution_count": 57,
   "id": "2faef3f8",
   "metadata": {},
   "outputs": [
    {
     "data": {
      "text/plain": [
       "0        1996\n",
       "1        1972\n",
       "2        1999\n",
       "3        1995\n",
       "4        1982\n",
       "         ... \n",
       "9996     1989\n",
       "9997     1987\n",
       "9998     1980\n",
       "9999     1977\n",
       "10000    1981\n",
       "Name: yearOfBirth, Length: 10001, dtype: int64"
      ]
     },
     "execution_count": 57,
     "metadata": {},
     "output_type": "execute_result"
    }
   ],
   "source": [
    "data['yearOfBirth']"
   ]
  },
  {
   "cell_type": "code",
   "execution_count": 58,
   "id": "38357ce6",
   "metadata": {},
   "outputs": [
    {
     "data": {
      "text/plain": [
       "0        24\n",
       "1        48\n",
       "2        21\n",
       "3        25\n",
       "4        38\n",
       "         ..\n",
       "9996     31\n",
       "9997     33\n",
       "9998     40\n",
       "9999     43\n",
       "10000    39\n",
       "Name: yearOfBirth, Length: 10001, dtype: int64"
      ]
     },
     "execution_count": 58,
     "metadata": {},
     "output_type": "execute_result"
    }
   ],
   "source": [
    "age = 2020 - data['yearOfBirth']\n",
    "age"
   ]
  },
  {
   "cell_type": "code",
   "execution_count": 59,
   "id": "9fcb4ca4",
   "metadata": {},
   "outputs": [
    {
     "data": {
      "text/plain": [
       "10001"
      ]
     },
     "execution_count": 59,
     "metadata": {},
     "output_type": "execute_result"
    }
   ],
   "source": [
    "age.count()"
   ]
  },
  {
   "cell_type": "code",
   "execution_count": 60,
   "id": "6588ce4c",
   "metadata": {},
   "outputs": [
    {
     "data": {
      "text/plain": [
       "array([ 24,  48,  21,  25,  38,  50,  36,  42,  30,  34,  26,  44,  62,\n",
       "        32,  40,  22,  66,  59,  73,  31,  28,  29,  37,  69,  57,  19,\n",
       "        23,  27,  41,  35,  63,  43,  51,  33,  46,  49,  39,  45,  53,\n",
       "        56,  52,  55,  54,  61,  60,  18,  20,  67,  58,  72, 110,  47,\n",
       "        82,  64,  79,  65,  74,  70,  81,  16,  68,  99,  77,  88,  95,\n",
       "       100, 102,  85, 107,  94,  83,  93,  84, 103,  13,  75,  97, 108,\n",
       "        80, 104,  78,  71, 109,  91, 101,  98,  96,  11, 105,  76,  90,\n",
       "       106], dtype=int64)"
      ]
     },
     "execution_count": 60,
     "metadata": {},
     "output_type": "execute_result"
    }
   ],
   "source": [
    "age.unique()"
   ]
  },
  {
   "cell_type": "code",
   "execution_count": 73,
   "id": "7859d7ef",
   "metadata": {},
   "outputs": [],
   "source": [
    "val = age.value_counts()"
   ]
  },
  {
   "cell_type": "code",
   "execution_count": 66,
   "id": "9dcfa6db",
   "metadata": {},
   "outputs": [
    {
     "data": {
      "text/plain": [
       "25     6.80\n",
       "30     6.66\n",
       "28     4.63\n",
       "35     4.46\n",
       "32     4.21\n",
       "       ... \n",
       "83     0.01\n",
       "107    0.01\n",
       "82     0.01\n",
       "88     0.01\n",
       "106    0.01\n",
       "Name: yearOfBirth, Length: 92, dtype: float64"
      ]
     },
     "execution_count": 66,
     "metadata": {},
     "output_type": "execute_result"
    }
   ],
   "source": [
    "age1 = age.value_counts()/10000\n",
    "age3 = age1 *100\n",
    "age3"
   ]
  },
  {
   "cell_type": "code",
   "execution_count": 80,
   "id": "4c3c946c",
   "metadata": {},
   "outputs": [
    {
     "data": {
      "text/plain": [
       "(array([  1.,   0.,   1.,   0.,   0.,   1.,   0.,  27.,  45.,  84., 139.,\n",
       "        183., 210., 300., 680., 351., 272., 463., 386., 666., 386., 421.,\n",
       "        413., 264., 446., 307., 269., 230., 196., 338., 164., 196., 139.,\n",
       "        151., 162., 139., 127., 210., 172., 139.,  89.,  95.,  92.,  81.,\n",
       "         87.,  83.,  78.,  69.,  87.,  69.,  51.,  56.,  50.,  50.,  52.,\n",
       "         31.,  27.,  20.,  35.,  13.,   3.,  12.,   5.,   4.,   2.,   2.,\n",
       "          6.,   2.,   3.,   1.,   1.,   1.,   1.,   1.,   2.,   0.,   0.,\n",
       "          1.,   0.,   1.,   1.,   0.,   2.,   2.,   5.,   4.,   2.,   1.,\n",
       "          3.,   3.,   1.,   4.,   3.,   3.,   1.,   1.,   1.,   8.,   3.,\n",
       "         12.]),\n",
       " array([ 11.  ,  11.99,  12.98,  13.97,  14.96,  15.95,  16.94,  17.93,\n",
       "         18.92,  19.91,  20.9 ,  21.89,  22.88,  23.87,  24.86,  25.85,\n",
       "         26.84,  27.83,  28.82,  29.81,  30.8 ,  31.79,  32.78,  33.77,\n",
       "         34.76,  35.75,  36.74,  37.73,  38.72,  39.71,  40.7 ,  41.69,\n",
       "         42.68,  43.67,  44.66,  45.65,  46.64,  47.63,  48.62,  49.61,\n",
       "         50.6 ,  51.59,  52.58,  53.57,  54.56,  55.55,  56.54,  57.53,\n",
       "         58.52,  59.51,  60.5 ,  61.49,  62.48,  63.47,  64.46,  65.45,\n",
       "         66.44,  67.43,  68.42,  69.41,  70.4 ,  71.39,  72.38,  73.37,\n",
       "         74.36,  75.35,  76.34,  77.33,  78.32,  79.31,  80.3 ,  81.29,\n",
       "         82.28,  83.27,  84.26,  85.25,  86.24,  87.23,  88.22,  89.21,\n",
       "         90.2 ,  91.19,  92.18,  93.17,  94.16,  95.15,  96.14,  97.13,\n",
       "         98.12,  99.11, 100.1 , 101.09, 102.08, 103.07, 104.06, 105.05,\n",
       "        106.04, 107.03, 108.02, 109.01, 110.  ]),\n",
       " <BarContainer object of 100 artists>)"
      ]
     },
     "execution_count": 80,
     "metadata": {},
     "output_type": "execute_result"
    },
    {
     "data": {
      "image/png": "[encoded data removed]",
      "text/plain": [
       "<Figure size 432x288 with 1 Axes>"
      ]
     },
     "metadata": {
      "needs_background": "light"
     },
     "output_type": "display_data"
    }
   ],
   "source": [
    "plt.hist(age, bins= 100,cumulative=False)"
   ]
  },
  {
   "cell_type": "code",
   "execution_count": 89,
   "id": "f3b88237",
   "metadata": {},
   "outputs": [],
   "source": [
    "data['hitCreationDate'] = pd.to_datetime(data['hitCreationDate'], errors='coerce')\n",
    "data['date'] = pd.to_datetime(data['date'], errors='coerce')\n",
    "data['handling_time'] = data['date'] - data['hitCreationDate']"
   ]
  },
  {
   "cell_type": "code",
   "execution_count": 91,
   "id": "82af2032",
   "metadata": {},
   "outputs": [],
   "source": [
    "data\n",
    "hour = data['handling_time']"
   ]
  },
  {
   "cell_type": "code",
   "execution_count": 92,
   "id": "7760addf",
   "metadata": {},
   "outputs": [
    {
     "ename": "NameError",
     "evalue": "name 'date' is not defined",
     "output_type": "error",
     "traceback": [
      "\u001b[1;31m---------------------------------------------------------------------------\u001b[0m",
      "\u001b[1;31mNameError\u001b[0m                                 Traceback (most recent call last)",
      "Input \u001b[1;32mIn [92]\u001b[0m, in \u001b[0;36m<cell line: 2>\u001b[1;34m()\u001b[0m\n\u001b[0;32m      1\u001b[0m age \u001b[38;5;241m=\u001b[39m \u001b[38;5;241m2020\u001b[39m \u001b[38;5;241m-\u001b[39m data[\u001b[38;5;124m'\u001b[39m\u001b[38;5;124myearOfBirth\u001b[39m\u001b[38;5;124m'\u001b[39m]\n\u001b[1;32m----> 2\u001b[0m hour_day \u001b[38;5;241m=\u001b[39m hour(\u001b[43mdate\u001b[49m)\n",
      "\u001b[1;31mNameError\u001b[0m: name 'date' is not defined"
     ]
    }
   ],
   "source": [
    "age = 2020 - data['yearOfBirth']\n",
    "hour_day = hour(date) "
   ]
  },
  {
   "cell_type": "code",
   "execution_count": null,
   "id": "50cb19a2",
   "metadata": {},
   "outputs": [],
   "source": []
  }
 ],
 "metadata": {
  "kernelspec": {
   "display_name": "Python 3 (ipykernel)",
   "language": "python",
   "name": "python3"
  },
  "language_info": {
   "codemirror_mode": {
    "name": "ipython",
    "version": 3
   },
   "file_extension": ".py",
   "mimetype": "text/x-python",
   "name": "python",
   "nbconvert_exporter": "python",
   "pygments_lexer": "ipython3",
   "version": "3.9.12"
  }
 },
 "nbformat": 4,
 "nbformat_minor": 5
}

{
 "cells": [
  {
   "cell_type": "code",
   "execution_count": 1,
   "id": "1c802840",
   "metadata": {},
   "outputs": [],
   "source": [
    "import pandas as dp\n",
    "import matplotlib.pyplot as plt\n",
    "import numpy as np"
   ]
  },
  {
   "cell_type": "code",
   "execution_count": 2,
   "id": "f7bddd6b",
   "metadata": {},
   "outputs": [],
   "source": [
    "data = dp.read_csv(\"./data.csv\")"
   ]
  },
  {
   "cell_type": "code",
   "execution_count": 3,
   "id": "380f05a1",
   "metadata": {},
   "outputs": [
    {
     "name": "stdout",
     "output_type": "stream",
     "text": [
      "          trip_id  year  month  week  day  hour    usertype  gender  \\\n",
      "0         2355134  2014      6    27    0    23  Subscriber    Male   \n",
      "1         2355133  2014      6    27    0    23  Subscriber    Male   \n",
      "2         2355130  2014      6    27    0    23  Subscriber    Male   \n",
      "3         2355129  2014      6    27    0    23  Subscriber  Female   \n",
      "4         2355128  2014      6    27    0    23  Subscriber  Female   \n",
      "...           ...   ...    ...   ...  ...   ...         ...     ...   \n",
      "9495230  16734072  2017     10    39    6     0  Subscriber  Female   \n",
      "9495231  16734071  2017     10    39    6     0  Subscriber    Male   \n",
      "9495232  16734070  2017     10    39    6     0  Subscriber    Male   \n",
      "9495233  16734067  2017     10    39    6     0  Subscriber  Female   \n",
      "9495234  16734066  2017     10    39    6     0  Subscriber  Female   \n",
      "\n",
      "                   starttime             stoptime  ...  from_station_id  \\\n",
      "0        2014-06-30 23:57:00  2014-07-01 00:07:00  ...              131   \n",
      "1        2014-06-30 23:56:00  2014-07-01 00:00:00  ...              282   \n",
      "2        2014-06-30 23:33:00  2014-06-30 23:35:00  ...              327   \n",
      "3        2014-06-30 23:26:00  2014-07-01 00:24:00  ...              134   \n",
      "4        2014-06-30 23:16:00  2014-06-30 23:26:00  ...              320   \n",
      "...                      ...                  ...  ...              ...   \n",
      "9495230  2017-10-01 00:01:00  2017-10-01 00:12:00  ...              220   \n",
      "9495231  2017-10-01 00:01:00  2017-10-01 00:12:00  ...              220   \n",
      "9495232  2017-10-01 00:01:00  2017-10-01 00:15:00  ...              289   \n",
      "9495233  2017-10-01 00:00:00  2017-10-01 00:06:00  ...              288   \n",
      "9495234  2017-10-01 00:00:00  2017-10-01 00:12:00  ...              135   \n",
      "\n",
      "                   from_station_name latitude_start  longitude_start  \\\n",
      "0          Lincoln Ave & Belmont Ave      41.939365       -87.668385   \n",
      "1            Halsted St & Maxwell St      41.864580       -87.646930   \n",
      "2        Sheffield Ave & Webster Ave      41.921687       -87.653714   \n",
      "3           Peoria St & Jackson Blvd      41.877749       -87.649633   \n",
      "4           Loomis St & Lexington St      41.872187       -87.661501   \n",
      "...                              ...            ...              ...   \n",
      "9495230   Hampden Ct & Diversey Pkwy      41.932620       -87.642385   \n",
      "9495231   Hampden Ct & Diversey Pkwy      41.932620       -87.642385   \n",
      "9495232        Wells St & Concord Ln      41.912133       -87.634656   \n",
      "9495233   Larrabee St & Armitage Ave      41.918084       -87.643749   \n",
      "9495234         Halsted St & 21st St      41.853780       -87.646650   \n",
      "\n",
      "        dpcapacity_start  to_station_id             to_station_name  \\\n",
      "0                   15.0            303     Broadway & Cornelia Ave   \n",
      "1                   15.0             22          May St & Taylor St   \n",
      "2                   19.0            225    Halsted St & Dickens Ave   \n",
      "3                   19.0            194        State St & Wacker Dr   \n",
      "4                   15.0            134    Peoria St & Jackson Blvd   \n",
      "...                  ...            ...                         ...   \n",
      "9495230             23.0             87  Racine Ave & Fullerton Ave   \n",
      "9495231             23.0             87  Racine Ave & Fullerton Ave   \n",
      "9495232             19.0            226    Racine Ave & Belmont Ave   \n",
      "9495233             11.0            289       Wells St & Concord Ln   \n",
      "9495234             11.0            129   Blue Island Ave & 18th St   \n",
      "\n",
      "         latitude_end  longitude_end dpcapacity_end  \n",
      "0           41.945512     -87.645980           15.0  \n",
      "1           41.869482     -87.655486           15.0  \n",
      "2           41.919936     -87.648830           15.0  \n",
      "3           41.887155     -87.627750           11.0  \n",
      "4           41.877749     -87.649633           19.0  \n",
      "...               ...            ...            ...  \n",
      "9495230     41.925563     -87.658404           19.0  \n",
      "9495231     41.925563     -87.658404           19.0  \n",
      "9495232     41.939743     -87.658865           15.0  \n",
      "9495233     41.912133     -87.634656           19.0  \n",
      "9495234     41.857556     -87.661535           15.0  \n",
      "\n",
      "[9495235 rows x 23 columns]\n"
     ]
    }
   ],
   "source": [
    "print(data)"
   ]
  },
  {
   "cell_type": "code",
   "execution_count": 4,
   "id": "abcc3457",
   "metadata": {},
   "outputs": [
    {
     "data": {
      "text/html": [
       "<div>\n",
       "<style scoped>\n",
       "    .dataframe tbody tr th:only-of-type {\n",
       "        vertical-align: middle;\n",
       "    }\n",
       "\n",
       "    .dataframe tbody tr th {\n",
       "        vertical-align: top;\n",
       "    }\n",
       "\n",
       "    .dataframe thead th {\n",
       "        text-align: right;\n",
       "    }\n",
       "</style>\n",
       "<table border=\"1\" class=\"dataframe\">\n",
       "  <thead>\n",
       "    <tr style=\"text-align: right;\">\n",
       "      <th></th>\n",
       "      <th>trip_id</th>\n",
       "      <th>year</th>\n",
       "      <th>month</th>\n",
       "      <th>week</th>\n",
       "      <th>day</th>\n",
       "      <th>hour</th>\n",
       "      <th>usertype</th>\n",
       "      <th>gender</th>\n",
       "      <th>starttime</th>\n",
       "      <th>stoptime</th>\n",
       "      <th>...</th>\n",
       "      <th>from_station_id</th>\n",
       "      <th>from_station_name</th>\n",
       "      <th>latitude_start</th>\n",
       "      <th>longitude_start</th>\n",
       "      <th>dpcapacity_start</th>\n",
       "      <th>to_station_id</th>\n",
       "      <th>to_station_name</th>\n",
       "      <th>latitude_end</th>\n",
       "      <th>longitude_end</th>\n",
       "      <th>dpcapacity_end</th>\n",
       "    </tr>\n",
       "  </thead>\n",
       "  <tbody>\n",
       "    <tr>\n",
       "      <th>0</th>\n",
       "      <td>2355134</td>\n",
       "      <td>2014</td>\n",
       "      <td>6</td>\n",
       "      <td>27</td>\n",
       "      <td>0</td>\n",
       "      <td>23</td>\n",
       "      <td>Subscriber</td>\n",
       "      <td>Male</td>\n",
       "      <td>2014-06-30 23:57:00</td>\n",
       "      <td>2014-07-01 00:07:00</td>\n",
       "      <td>...</td>\n",
       "      <td>131</td>\n",
       "      <td>Lincoln Ave &amp; Belmont Ave</td>\n",
       "      <td>41.939365</td>\n",
       "      <td>-87.668385</td>\n",
       "      <td>15.0</td>\n",
       "      <td>303</td>\n",
       "      <td>Broadway &amp; Cornelia Ave</td>\n",
       "      <td>41.945512</td>\n",
       "      <td>-87.645980</td>\n",
       "      <td>15.0</td>\n",
       "    </tr>\n",
       "    <tr>\n",
       "      <th>1</th>\n",
       "      <td>2355133</td>\n",
       "      <td>2014</td>\n",
       "      <td>6</td>\n",
       "      <td>27</td>\n",
       "      <td>0</td>\n",
       "      <td>23</td>\n",
       "      <td>Subscriber</td>\n",
       "      <td>Male</td>\n",
       "      <td>2014-06-30 23:56:00</td>\n",
       "      <td>2014-07-01 00:00:00</td>\n",
       "      <td>...</td>\n",
       "      <td>282</td>\n",
       "      <td>Halsted St &amp; Maxwell St</td>\n",
       "      <td>41.864580</td>\n",
       "      <td>-87.646930</td>\n",
       "      <td>15.0</td>\n",
       "      <td>22</td>\n",
       "      <td>May St &amp; Taylor St</td>\n",
       "      <td>41.869482</td>\n",
       "      <td>-87.655486</td>\n",
       "      <td>15.0</td>\n",
       "    </tr>\n",
       "    <tr>\n",
       "      <th>2</th>\n",
       "      <td>2355130</td>\n",
       "      <td>2014</td>\n",
       "      <td>6</td>\n",
       "      <td>27</td>\n",
       "      <td>0</td>\n",
       "      <td>23</td>\n",
       "      <td>Subscriber</td>\n",
       "      <td>Male</td>\n",
       "      <td>2014-06-30 23:33:00</td>\n",
       "      <td>2014-06-30 23:35:00</td>\n",
       "      <td>...</td>\n",
       "      <td>327</td>\n",
       "      <td>Sheffield Ave &amp; Webster Ave</td>\n",
       "      <td>41.921687</td>\n",
       "      <td>-87.653714</td>\n",
       "      <td>19.0</td>\n",
       "      <td>225</td>\n",
       "      <td>Halsted St &amp; Dickens Ave</td>\n",
       "      <td>41.919936</td>\n",
       "      <td>-87.648830</td>\n",
       "      <td>15.0</td>\n",
       "    </tr>\n",
       "    <tr>\n",
       "      <th>3</th>\n",
       "      <td>2355129</td>\n",
       "      <td>2014</td>\n",
       "      <td>6</td>\n",
       "      <td>27</td>\n",
       "      <td>0</td>\n",
       "      <td>23</td>\n",
       "      <td>Subscriber</td>\n",
       "      <td>Female</td>\n",
       "      <td>2014-06-30 23:26:00</td>\n",
       "      <td>2014-07-01 00:24:00</td>\n",
       "      <td>...</td>\n",
       "      <td>134</td>\n",
       "      <td>Peoria St &amp; Jackson Blvd</td>\n",
       "      <td>41.877749</td>\n",
       "      <td>-87.649633</td>\n",
       "      <td>19.0</td>\n",
       "      <td>194</td>\n",
       "      <td>State St &amp; Wacker Dr</td>\n",
       "      <td>41.887155</td>\n",
       "      <td>-87.627750</td>\n",
       "      <td>11.0</td>\n",
       "    </tr>\n",
       "    <tr>\n",
       "      <th>4</th>\n",
       "      <td>2355128</td>\n",
       "      <td>2014</td>\n",
       "      <td>6</td>\n",
       "      <td>27</td>\n",
       "      <td>0</td>\n",
       "      <td>23</td>\n",
       "      <td>Subscriber</td>\n",
       "      <td>Female</td>\n",
       "      <td>2014-06-30 23:16:00</td>\n",
       "      <td>2014-06-30 23:26:00</td>\n",
       "      <td>...</td>\n",
       "      <td>320</td>\n",
       "      <td>Loomis St &amp; Lexington St</td>\n",
       "      <td>41.872187</td>\n",
       "      <td>-87.661501</td>\n",
       "      <td>15.0</td>\n",
       "      <td>134</td>\n",
       "      <td>Peoria St &amp; Jackson Blvd</td>\n",
       "      <td>41.877749</td>\n",
       "      <td>-87.649633</td>\n",
       "      <td>19.0</td>\n",
       "    </tr>\n",
       "    <tr>\n",
       "      <th>...</th>\n",
       "      <td>...</td>\n",
       "      <td>...</td>\n",
       "      <td>...</td>\n",
       "      <td>...</td>\n",
       "      <td>...</td>\n",
       "      <td>...</td>\n",
       "      <td>...</td>\n",
       "      <td>...</td>\n",
       "      <td>...</td>\n",
       "      <td>...</td>\n",
       "      <td>...</td>\n",
       "      <td>...</td>\n",
       "      <td>...</td>\n",
       "      <td>...</td>\n",
       "      <td>...</td>\n",
       "      <td>...</td>\n",
       "      <td>...</td>\n",
       "      <td>...</td>\n",
       "      <td>...</td>\n",
       "      <td>...</td>\n",
       "      <td>...</td>\n",
       "    </tr>\n",
       "    <tr>\n",
       "      <th>9495230</th>\n",
       "      <td>16734072</td>\n",
       "      <td>2017</td>\n",
       "      <td>10</td>\n",
       "      <td>39</td>\n",
       "      <td>6</td>\n",
       "      <td>0</td>\n",
       "      <td>Subscriber</td>\n",
       "      <td>Female</td>\n",
       "      <td>2017-10-01 00:01:00</td>\n",
       "      <td>2017-10-01 00:12:00</td>\n",
       "      <td>...</td>\n",
       "      <td>220</td>\n",
       "      <td>Hampden Ct &amp; Diversey Pkwy</td>\n",
       "      <td>41.932620</td>\n",
       "      <td>-87.642385</td>\n",
       "      <td>23.0</td>\n",
       "      <td>87</td>\n",
       "      <td>Racine Ave &amp; Fullerton Ave</td>\n",
       "      <td>41.925563</td>\n",
       "      <td>-87.658404</td>\n",
       "      <td>19.0</td>\n",
       "    </tr>\n",
       "    <tr>\n",
       "      <th>9495231</th>\n",
       "      <td>16734071</td>\n",
       "      <td>2017</td>\n",
       "      <td>10</td>\n",
       "      <td>39</td>\n",
       "      <td>6</td>\n",
       "      <td>0</td>\n",
       "      <td>Subscriber</td>\n",
       "      <td>Male</td>\n",
       "      <td>2017-10-01 00:01:00</td>\n",
       "      <td>2017-10-01 00:12:00</td>\n",
       "      <td>...</td>\n",
       "      <td>220</td>\n",
       "      <td>Hampden Ct &amp; Diversey Pkwy</td>\n",
       "      <td>41.932620</td>\n",
       "      <td>-87.642385</td>\n",
       "      <td>23.0</td>\n",
       "      <td>87</td>\n",
       "      <td>Racine Ave &amp; Fullerton Ave</td>\n",
       "      <td>41.925563</td>\n",
       "      <td>-87.658404</td>\n",
       "      <td>19.0</td>\n",
       "    </tr>\n",
       "    <tr>\n",
       "      <th>9495232</th>\n",
       "      <td>16734070</td>\n",
       "      <td>2017</td>\n",
       "      <td>10</td>\n",
       "      <td>39</td>\n",
       "      <td>6</td>\n",
       "      <td>0</td>\n",
       "      <td>Subscriber</td>\n",
       "      <td>Male</td>\n",
       "      <td>2017-10-01 00:01:00</td>\n",
       "      <td>2017-10-01 00:15:00</td>\n",
       "      <td>...</td>\n",
       "      <td>289</td>\n",
       "      <td>Wells St &amp; Concord Ln</td>\n",
       "      <td>41.912133</td>\n",
       "      <td>-87.634656</td>\n",
       "      <td>19.0</td>\n",
       "      <td>226</td>\n",
       "      <td>Racine Ave &amp; Belmont Ave</td>\n",
       "      <td>41.939743</td>\n",
       "      <td>-87.658865</td>\n",
       "      <td>15.0</td>\n",
       "    </tr>\n",
       "    <tr>\n",
       "      <th>9495233</th>\n",
       "      <td>16734067</td>\n",
       "      <td>2017</td>\n",
       "      <td>10</td>\n",
       "      <td>39</td>\n",
       "      <td>6</td>\n",
       "      <td>0</td>\n",
       "      <td>Subscriber</td>\n",
       "      <td>Female</td>\n",
       "      <td>2017-10-01 00:00:00</td>\n",
       "      <td>2017-10-01 00:06:00</td>\n",
       "      <td>...</td>\n",
       "      <td>288</td>\n",
       "      <td>Larrabee St &amp; Armitage Ave</td>\n",
       "      <td>41.918084</td>\n",
       "      <td>-87.643749</td>\n",
       "      <td>11.0</td>\n",
       "      <td>289</td>\n",
       "      <td>Wells St &amp; Concord Ln</td>\n",
       "      <td>41.912133</td>\n",
       "      <td>-87.634656</td>\n",
       "      <td>19.0</td>\n",
       "    </tr>\n",
       "    <tr>\n",
       "      <th>9495234</th>\n",
       "      <td>16734066</td>\n",
       "      <td>2017</td>\n",
       "      <td>10</td>\n",
       "      <td>39</td>\n",
       "      <td>6</td>\n",
       "      <td>0</td>\n",
       "      <td>Subscriber</td>\n",
       "      <td>Female</td>\n",
       "      <td>2017-10-01 00:00:00</td>\n",
       "      <td>2017-10-01 00:12:00</td>\n",
       "      <td>...</td>\n",
       "      <td>135</td>\n",
       "      <td>Halsted St &amp; 21st St</td>\n",
       "      <td>41.853780</td>\n",
       "      <td>-87.646650</td>\n",
       "      <td>11.0</td>\n",
       "      <td>129</td>\n",
       "      <td>Blue Island Ave &amp; 18th St</td>\n",
       "      <td>41.857556</td>\n",
       "      <td>-87.661535</td>\n",
       "      <td>15.0</td>\n",
       "    </tr>\n",
       "  </tbody>\n",
       "</table>\n",
       "<p>9495235 rows × 23 columns</p>\n",
       "</div>"
      ],
      "text/plain": [
       "          trip_id  year  month  week  day  hour    usertype  gender  \\\n",
       "0         2355134  2014      6    27    0    23  Subscriber    Male   \n",
       "1         2355133  2014      6    27    0    23  Subscriber    Male   \n",
       "2         2355130  2014      6    27    0    23  Subscriber    Male   \n",
       "3         2355129  2014      6    27    0    23  Subscriber  Female   \n",
       "4         2355128  2014      6    27    0    23  Subscriber  Female   \n",
       "...           ...   ...    ...   ...  ...   ...         ...     ...   \n",
       "9495230  16734072  2017     10    39    6     0  Subscriber  Female   \n",
       "9495231  16734071  2017     10    39    6     0  Subscriber    Male   \n",
       "9495232  16734070  2017     10    39    6     0  Subscriber    Male   \n",
       "9495233  16734067  2017     10    39    6     0  Subscriber  Female   \n",
       "9495234  16734066  2017     10    39    6     0  Subscriber  Female   \n",
       "\n",
       "                   starttime             stoptime  ...  from_station_id  \\\n",
       "0        2014-06-30 23:57:00  2014-07-01 00:07:00  ...              131   \n",
       "1        2014-06-30 23:56:00  2014-07-01 00:00:00  ...              282   \n",
       "2        2014-06-30 23:33:00  2014-06-30 23:35:00  ...              327   \n",
       "3        2014-06-30 23:26:00  2014-07-01 00:24:00  ...              134   \n",
       "4        2014-06-30 23:16:00  2014-06-30 23:26:00  ...              320   \n",
       "...                      ...                  ...  ...              ...   \n",
       "9495230  2017-10-01 00:01:00  2017-10-01 00:12:00  ...              220   \n",
       "9495231  2017-10-01 00:01:00  2017-10-01 00:12:00  ...              220   \n",
       "9495232  2017-10-01 00:01:00  2017-10-01 00:15:00  ...              289   \n",
       "9495233  2017-10-01 00:00:00  2017-10-01 00:06:00  ...              288   \n",
       "9495234  2017-10-01 00:00:00  2017-10-01 00:12:00  ...              135   \n",
       "\n",
       "                   from_station_name latitude_start  longitude_start  \\\n",
       "0          Lincoln Ave & Belmont Ave      41.939365       -87.668385   \n",
       "1            Halsted St & Maxwell St      41.864580       -87.646930   \n",
       "2        Sheffield Ave & Webster Ave      41.921687       -87.653714   \n",
       "3           Peoria St & Jackson Blvd      41.877749       -87.649633   \n",
       "4           Loomis St & Lexington St      41.872187       -87.661501   \n",
       "...                              ...            ...              ...   \n",
       "9495230   Hampden Ct & Diversey Pkwy      41.932620       -87.642385   \n",
       "9495231   Hampden Ct & Diversey Pkwy      41.932620       -87.642385   \n",
       "9495232        Wells St & Concord Ln      41.912133       -87.634656   \n",
       "9495233   Larrabee St & Armitage Ave      41.918084       -87.643749   \n",
       "9495234         Halsted St & 21st St      41.853780       -87.646650   \n",
       "\n",
       "        dpcapacity_start  to_station_id             to_station_name  \\\n",
       "0                   15.0            303     Broadway & Cornelia Ave   \n",
       "1                   15.0             22          May St & Taylor St   \n",
       "2                   19.0            225    Halsted St & Dickens Ave   \n",
       "3                   19.0            194        State St & Wacker Dr   \n",
       "4                   15.0            134    Peoria St & Jackson Blvd   \n",
       "...                  ...            ...                         ...   \n",
       "9495230             23.0             87  Racine Ave & Fullerton Ave   \n",
       "9495231             23.0             87  Racine Ave & Fullerton Ave   \n",
       "9495232             19.0            226    Racine Ave & Belmont Ave   \n",
       "9495233             11.0            289       Wells St & Concord Ln   \n",
       "9495234             11.0            129   Blue Island Ave & 18th St   \n",
       "\n",
       "         latitude_end  longitude_end dpcapacity_end  \n",
       "0           41.945512     -87.645980           15.0  \n",
       "1           41.869482     -87.655486           15.0  \n",
       "2           41.919936     -87.648830           15.0  \n",
       "3           41.887155     -87.627750           11.0  \n",
       "4           41.877749     -87.649633           19.0  \n",
       "...               ...            ...            ...  \n",
       "9495230     41.925563     -87.658404           19.0  \n",
       "9495231     41.925563     -87.658404           19.0  \n",
       "9495232     41.939743     -87.658865           15.0  \n",
       "9495233     41.912133     -87.634656           19.0  \n",
       "9495234     41.857556     -87.661535           15.0  \n",
       "\n",
       "[9495235 rows x 23 columns]"
      ]
     },
     "execution_count": 4,
     "metadata": {},
     "output_type": "execute_result"
    }
   ],
   "source": [
    "data\n"
   ]
  },
  {
   "cell_type": "code",
   "execution_count": 5,
   "id": "a28428e4",
   "metadata": {},
   "outputs": [
    {
     "data": {
      "image/png": "[encoded data removed]",
      "text/plain": [
       "<Figure size 432x288 with 1 Axes>"
      ]
     },
     "metadata": {
      "needs_background": "light"
     },
     "output_type": "display_data"
    }
   ],
   "source": [
    "# create the data\n",
    "a = np.linspace(0,20)\n",
    "# Draw the plot\n",
    "plt.plot(a, a, label = 'linear')\n",
    "# display the plot\n",
    "plt.show()"
   ]
  },
  {
   "cell_type": "code",
   "execution_count": 6,
   "id": "748103fe",
   "metadata": {},
   "outputs": [
    {
     "data": {
      "text/plain": [
       "Index(['trip_id', 'year', 'month', 'week', 'day', 'hour', 'usertype', 'gender',\n",
       "       'starttime', 'stoptime', 'tripduration', 'temperature', 'events',\n",
       "       'from_station_id', 'from_station_name', 'latitude_start',\n",
       "       'longitude_start', 'dpcapacity_start', 'to_station_id',\n",
       "       'to_station_name', 'latitude_end', 'longitude_end', 'dpcapacity_end'],\n",
       "      dtype='object')"
      ]
     },
     "execution_count": 6,
     "metadata": {},
     "output_type": "execute_result"
    }
   ],
   "source": [
    "data.columns\n"
   ]
  },
  {
   "cell_type": "code",
   "execution_count": 7,
   "id": "5dd27102",
   "metadata": {},
   "outputs": [],
   "source": [
    "# .groupby() is used to compare data. THe frist value is index and second is values\n",
    "data_plot = data.groupby([\"year\"])['trip_id'].count()"
   ]
  },
  {
   "cell_type": "code",
   "execution_count": 8,
   "id": "36ffd02d",
   "metadata": {},
   "outputs": [
    {
     "data": {
      "text/plain": [
       "array([1615683, 2220509, 2701353, 2957690], dtype=int64)"
      ]
     },
     "execution_count": 8,
     "metadata": {},
     "output_type": "execute_result"
    }
   ],
   "source": [
    "data_plot.values\n"
   ]
  },
  {
   "cell_type": "code",
   "execution_count": 9,
   "id": "7fb1d25b",
   "metadata": {},
   "outputs": [
    {
     "data": {
      "image/png": "[encoded data removed]",
      "text/plain": [
       "<Figure size 432x288 with 1 Axes>"
      ]
     },
     "metadata": {
      "needs_background": "light"
     },
     "output_type": "display_data"
    }
   ],
   "source": [
    "# putting the x axis and y axis values\n",
    "plt.plot(data_plot.index,data_plot.values)\n",
    "plt.show()"
   ]
  },
  {
   "cell_type": "code",
   "execution_count": 10,
   "id": "45cb4a99",
   "metadata": {},
   "outputs": [
    {
     "data": {
      "text/plain": [
       "Int64Index([1, 2, 3, 4, 5, 6, 7, 8, 9, 10, 11, 12], dtype='int64', name='month')"
      ]
     },
     "execution_count": 10,
     "metadata": {},
     "output_type": "execute_result"
    }
   ],
   "source": [
    "data_months = data.groupby(['month'])['trip_id'].count()\n",
    "data_months.index"
   ]
  },
  {
   "cell_type": "code",
   "execution_count": 11,
   "id": "3540ecd2",
   "metadata": {},
   "outputs": [
    {
     "data": {
      "text/plain": [
       "month\n",
       "1      271715\n",
       "2      305975\n",
       "3      437929\n",
       "4      621688\n",
       "5      869584\n",
       "6     1178225\n",
       "7     1279505\n",
       "8     1304703\n",
       "9     1189971\n",
       "10     997712\n",
       "11     643556\n",
       "12     394672\n",
       "Name: trip_id, dtype: int64"
      ]
     },
     "metadata": {},
     "output_type": "display_data"
    }
   ],
   "source": [
    "display(data_months)"
   ]
  },
  {
   "cell_type": "code",
   "execution_count": 12,
   "id": "c4c6b59b",
   "metadata": {},
   "outputs": [
    {
     "data": {
      "text/plain": [
       "Int64Index([1, 2, 3, 4, 5, 6, 7, 8, 9, 10, 11, 12], dtype='int64', name='month')"
      ]
     },
     "execution_count": 12,
     "metadata": {},
     "output_type": "execute_result"
    }
   ],
   "source": [
    "data_months.index\n",
    "#data_months.values\n"
   ]
  },
  {
   "cell_type": "code",
   "execution_count": 13,
   "id": "c81dfaf7",
   "metadata": {},
   "outputs": [
    {
     "data": {
      "image/png": "[encoded data removed]",
      "text/plain": [
       "<Figure size 432x288 with 1 Axes>"
      ]
     },
     "metadata": {
      "needs_background": "light"
     },
     "output_type": "display_data"
    }
   ],
   "source": [
    "plt.plot(data_months.index ,data_months.values)\n",
    "plt.show()"
   ]
  },
  {
   "cell_type": "code",
   "execution_count": 14,
   "id": "2d6b68d8",
   "metadata": {},
   "outputs": [],
   "source": [
    "# two filters are apllied year and month\n",
    "data_filter_graph = data[(data['year'] == 2016) & (data['month'] == 1)].groupby(['day'])['trip_id'].count()"
   ]
  },
  {
   "cell_type": "code",
   "execution_count": 15,
   "id": "ec6eaad9",
   "metadata": {},
   "outputs": [
    {
     "data": {
      "text/plain": [
       "Text(0, 0.5, 'Value')"
      ]
     },
     "execution_count": 15,
     "metadata": {},
     "output_type": "execute_result"
    },
    {
     "data": {
      "image/png": "[encoded data removed]",
      "text/plain": [
       "<Figure size 432x288 with 1 Axes>"
      ]
     },
     "metadata": {
      "needs_background": "light"
     },
     "output_type": "display_data"
    }
   ],
   "source": [
    "plot_data = plt.plot(data_filter_graph.index,data_filter_graph.values, color = 'red', linewidth = 2)\n",
    "plt.xlabel(\"index\")\n",
    "plt.ylabel(\"Value\")"
   ]
  },
  {
   "cell_type": "code",
   "execution_count": 16,
   "id": "720f2c0a",
   "metadata": {},
   "outputs": [
    {
     "data": {
      "text/plain": [
       "(9495235, 23)"
      ]
     },
     "execution_count": 16,
     "metadata": {},
     "output_type": "execute_result"
    }
   ],
   "source": [
    "data.shape"
   ]
  },
  {
   "cell_type": "code",
   "execution_count": 17,
   "id": "59152df5",
   "metadata": {},
   "outputs": [],
   "source": [
    "data_filter_jan = data[(data['year'] == 2016) & (data['month'] == 1)].groupby(['day'])['trip_id'].count()\n",
    "data_filter_feb = data[(data['year'] == 2016) & (data['month'] == 2)].groupby(['day'])['trip_id'].count()\n",
    "data_filter_march = data[(data['year'] == 2016) & (data['month'] == 3)].groupby(['day'])['trip_id'].count()"
   ]
  },
  {
   "cell_type": "code",
   "execution_count": 18,
   "id": "533eea14",
   "metadata": {},
   "outputs": [
    {
     "data": {
      "text/plain": [
       "<matplotlib.legend.Legend at 0x1b596f0dbb0>"
      ]
     },
     "execution_count": 18,
     "metadata": {},
     "output_type": "execute_result"
    },
    {
     "data": {
      "image/png": "[encoded data removed]",
      "text/plain": [
       "<Figure size 432x288 with 1 Axes>"
      ]
     },
     "metadata": {
      "needs_background": "light"
     },
     "output_type": "display_data"
    }
   ],
   "source": [
    "data_plot = plt.plot(data_filter_jan.index,data_filter_jan.values)\n",
    "data_plot = plt.plot(data_filter_feb.index,data_filter_feb.values) \n",
    "data_plot = plt.plot(data_filter_march.index,data_filter_march.values)\n",
    "# to differenate the lines .legend is used \n",
    "plt.legend(['jan', 'feb','march'])"
   ]
  },
  {
   "cell_type": "code",
   "execution_count": 19,
   "id": "9f104a17",
   "metadata": {},
   "outputs": [
    {
     "data": {
      "image/png": "[encoded data removed]",
      "text/plain": [
       "<Figure size 432x288 with 1 Axes>"
      ]
     },
     "metadata": {
      "needs_background": "light"
     },
     "output_type": "display_data"
    }
   ],
   "source": [
    "# to draw bar graph. it has clear view for comparision of two data\n",
    "data_plot = plt.bar(data_filter_jan.index,data_filter_jan.values)\n",
    "plt.show()"
   ]
  },
  {
   "cell_type": "code",
   "execution_count": 20,
   "id": "b39c0c0e",
   "metadata": {},
   "outputs": [
    {
     "data": {
      "text/plain": [
       "<matplotlib.legend.Legend at 0x1b596eda160>"
      ]
     },
     "execution_count": 20,
     "metadata": {},
     "output_type": "execute_result"
    },
    {
     "data": {
      "image/png": "[encoded data removed]",
      "text/plain": [
       "<Figure size 432x288 with 1 Axes>"
      ]
     },
     "metadata": {
      "needs_background": "light"
     },
     "output_type": "display_data"
    }
   ],
   "source": [
    "data_plot = plt.bar(data_filter_jan.index,data_filter_jan.values)\n",
    "data_plot = plt.bar(data_filter_feb.index,data_filter_feb.values)\n",
    "data_plot = plt.bar(data_filter_march.index,data_filter_march.values)\n",
    "# to differenate the lines .legend is used \n",
    "plt.legend(['jan', 'feb','march'])"
   ]
  },
  {
   "cell_type": "code",
   "execution_count": 21,
   "id": "cc8998de",
   "metadata": {},
   "outputs": [
    {
     "data": {
      "image/png": "[encoded data removed]",
      "text/plain": [
       "<Figure size 432x288 with 1 Axes>"
      ]
     },
     "metadata": {},
     "output_type": "display_data"
    }
   ],
   "source": [
    "# this is pie chart. in pie chart the index should be last one\n",
    "data_plot = plt.pie(data_filter_jan,labels=data_filter_jan.index)\n",
    "plt.legend()\n",
    "plt.show()\n"
   ]
  },
  {
   "cell_type": "code",
   "execution_count": 22,
   "id": "4a5f2c61",
   "metadata": {},
   "outputs": [
    {
     "data": {
      "image/png": "[encoded data removed]",
      "text/plain": [
       "<Figure size 432x288 with 1 Axes>"
      ]
     },
     "metadata": {},
     "output_type": "display_data"
    }
   ],
   "source": [
    "data_plot = plt.pie(data_filter_jan,labels=['sun','mon','tue','wed','thu', 'fri','sat'])\n",
    "plt.title('This is the data of a Bicycle')\n",
    "plt.show()"
   ]
  },
  {
   "cell_type": "code",
   "execution_count": 2,
   "id": "85e526de",
   "metadata": {},
   "outputs": [
    {
     "ename": "NameError",
     "evalue": "name 'plt' is not defined",
     "output_type": "error",
     "traceback": [
      "\u001b[1;31m---------------------------------------------------------------------------\u001b[0m",
      "\u001b[1;31mNameError\u001b[0m                                 Traceback (most recent call last)",
      "Input \u001b[1;32mIn [2]\u001b[0m, in \u001b[0;36m<cell line: 2>\u001b[1;34m()\u001b[0m\n\u001b[0;32m      1\u001b[0m \u001b[38;5;66;03m# we can see the data of one value to check how it varies. here if we see the 8 month has thte largest bike ride \u001b[39;00m\n\u001b[1;32m----> 2\u001b[0m \u001b[43mplt\u001b[49m\u001b[38;5;241m.\u001b[39mhist(data[\u001b[38;5;124m'\u001b[39m\u001b[38;5;124mmonth\u001b[39m\u001b[38;5;124m'\u001b[39m])\n\u001b[0;32m      3\u001b[0m data\u001b[38;5;241m.\u001b[39mvalue\n\u001b[0;32m      4\u001b[0m plt\u001b[38;5;241m.\u001b[39mshow()\n",
      "\u001b[1;31mNameError\u001b[0m: name 'plt' is not defined"
     ]
    }
   ],
   "source": [
    "# we can see the data of one value to check how it varies. here if we see the 8 month has thte largest bike ride \n",
    "plt.hist(data['month'])\n",
    "\n",
    "plt.show()"
   ]
  },
  {
   "cell_type": "code",
   "execution_count": 24,
   "id": "1bad0b44",
   "metadata": {},
   "outputs": [
    {
     "data": {
      "image/png": "[encoded data removed]",
      "text/plain": [
       "<Figure size 432x288 with 1 Axes>"
      ]
     },
     "metadata": {
      "needs_background": "light"
     },
     "output_type": "display_data"
    }
   ],
   "source": [
    "# we can make bins to divide the data\n",
    "plt.hist(data['month'], bins =6)\n",
    "plt.show()"
   ]
  },
  {
   "cell_type": "code",
   "execution_count": 26,
   "id": "080cad9b",
   "metadata": {},
   "outputs": [
    {
     "data": {
      "text/plain": [
       "trip_id              0\n",
       "year                 0\n",
       "month                0\n",
       "week                 0\n",
       "day                  0\n",
       "hour                 0\n",
       "usertype             0\n",
       "gender               0\n",
       "starttime            0\n",
       "stoptime             0\n",
       "tripduration         0\n",
       "temperature          0\n",
       "events               0\n",
       "from_station_id      0\n",
       "from_station_name    0\n",
       "latitude_start       0\n",
       "longitude_start      0\n",
       "dpcapacity_start     0\n",
       "to_station_id        0\n",
       "to_station_name      0\n",
       "latitude_end         0\n",
       "longitude_end        0\n",
       "dpcapacity_end       0\n",
       "dtype: int64"
      ]
     },
     "execution_count": 26,
     "metadata": {},
     "output_type": "execute_result"
    }
   ],
   "source": [
    "data.isnull().sum()"
   ]
  },
  {
   "cell_type": "code",
   "execution_count": null,
   "id": "e9c1d442",
   "metadata": {},
   "outputs": [],
   "source": [
    " "
   ]
  }
 ],
 "metadata": {
  "kernelspec": {
   "display_name": "Python 3 (ipykernel)",
   "language": "python",
   "name": "python3"
  },
  "language_info": {
   "codemirror_mode": {
    "name": "ipython",
    "version": 3
   },
   "file_extension": ".py",
   "mimetype": "text/x-python",
   "name": "python",
   "nbconvert_exporter": "python",
   "pygments_lexer": "ipython3",
   "version": "3.9.12"
  }
 },
 "nbformat": 4,
 "nbformat_minor": 5
}
